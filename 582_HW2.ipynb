{
 "cells": [
  {
   "cell_type": "code",
   "execution_count": 4,
   "metadata": {},
   "outputs": [
    {
     "name": "stdout",
     "output_type": "stream",
     "text": [
      "('Total err after ', 5000, ' epoch; eta:', 5.7e-07, ' , beta:', 0.812, ' , initial momentum:', 0, ' ==>', 1.249204822377346)\n",
      "('Final variables:', array([  1.99258314e+00,   9.62908736e-01,  -5.09858011e-02,\n",
      "         1.55906971e-03]))\n"
     ]
    }
   ],
   "source": [
    "%matplotlib inline\n",
    "import matplotlib.pylab as plt\n",
    "\n",
    "import time\n",
    "from IPython import display\n",
    "import numpy as np\n",
    "\n",
    "\n",
    "\n",
    "arr2 = np.array([8.04, 6.95, 7.58, 8.81, 8.33, 9.96, 7.24, 4.26, 10.84, 4.82, 5.68])\n",
    "\n",
    "arr1 = np.array([10., 8., 13., 9., 11., 14., 6., 4., 12., 7., 5.])\n",
    "\n",
    "Num = len(arr1)\n",
    "\n",
    "# Transpose\n",
    "A = np.vstack((np.ones(N),x,x**2, x**3)).T\n",
    "\n",
    "# Learning rate\n",
    "eta = 0.00000057\n",
    "beta = 0.812\n",
    "immnt = 0\n",
    "mmnt = immnt;\n",
    "\n",
    "              \n",
    "# parameters\n",
    "w = np.array([2., 1.,0.1,0.001])\n",
    "EPOCH = 5000\n",
    "\n",
    "for epoch in range(EPOCH):\n",
    "    # Error\n",
    "    error = arr2-A.dot(w)\n",
    "    \n",
    "    # Total error Sum of squares\n",
    "    E = np.sum(error**2)/Num\n",
    "    \n",
    "    # Gradient Descent Method\n",
    "    dE = -2.*A.T.dot(error)/Num \n",
    " \n",
    "    mmnt = dE + (beta*mmnt);\n",
    "    #backwards only once\n",
    "    \n",
    "    w = w - eta*mmnt;\n",
    "E = np.sum(error**2)/Num\n",
    "\n",
    "print(\"Total err after \" ,EPOCH, \" epoch; eta:\", eta, \" , beta:\" , beta, \" , initial momentum:\",immnt ,\" ==>\", E)\n",
    "print(\"Final variables:\",w)\n"
   ]
  },
  {
   "cell_type": "code",
   "execution_count": null,
   "metadata": {
    "collapsed": true
   },
   "outputs": [],
   "source": []
  }
 ],
 "metadata": {
  "kernelspec": {
   "display_name": "Python 2",
   "language": "python",
   "name": "python2"
  },
  "language_info": {
   "codemirror_mode": {
    "name": "ipython",
    "version": 2
   },
   "file_extension": ".py",
   "mimetype": "text/x-python",
   "name": "python",
   "nbconvert_exporter": "python",
   "pygments_lexer": "ipython2",
   "version": "2.7.13"
  }
 },
 "nbformat": 4,
 "nbformat_minor": 2
}
